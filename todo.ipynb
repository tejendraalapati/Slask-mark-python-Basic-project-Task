{
 "cells": [
  {
   "cell_type": "code",
   "execution_count": 1,
   "metadata": {},
   "outputs": [],
   "source": [
    "#Task-1\n",
    "tasks=[]"
   ]
  },
  {
   "cell_type": "code",
   "execution_count": null,
   "metadata": {},
   "outputs": [],
   "source": [
    "def task_add(task):\n",
    "    tasks.append(task)\n",
    "    print(\"the task isk is added sucessfully\")\n",
    "\n",
    "def task_remove(task):\n",
    "    if task in tasks:\n",
    "        tasks.remove(task)\n",
    "        print(\"the task has been sucessfully removed\")\n",
    "    else:\n",
    "        print(\"the task has been not found\")\n",
    "\n",
    "def display_task():\n",
    "    if len(tasks)==0:\n",
    "        print(\"no task has been found\")\n",
    "    else:\n",
    "        print(\"Task:\")\n",
    "\n",
    "        for task in tasks:\n",
    "            print(\"-\",+ task)\n",
    "\n",
    "\n",
    "while True:\n",
    "    print(\"---to-do-list----\")\n",
    "    print(\"1. Add task\")\n",
    "    print(\"2. Remove task\")\n",
    "    print(\"3. Display tasks\")\n",
    "    print(\"4. Exit\")\n",
    "\n",
    "    Choice = input('enter the choice (1-4):')\n",
    "\n",
    "    if Choice == \"1\":\n",
    "        task = input(\"enter the task:\")\n",
    "        task_add(task)\n",
    "\n",
    "    elif Choice == \"2\":\n",
    "        task = input(\"Enter the task to remove: \")\n",
    "        task_remove(task)\n",
    "\n",
    "    elif Choice == \"3\":\n",
    "       display_task()\n",
    "    elif Choice == \"4\":\n",
    "        print(\"Exiting program...\")\n",
    "        break\n",
    "    else:\n",
    "        print(\"Invalid choice. Please try again.\")"
   ]
  },
  {
   "cell_type": "code",
   "execution_count": 1,
   "metadata": {},
   "outputs": [
    {
     "name": "stdout",
     "output_type": "stream",
     "text": [
      "computer_number 92\n",
      "your number is too Lower\n"
     ]
    }
   ],
   "source": [
    "\n",
    "#Task-2\n",
    "import random\n",
    "computer_number=random.randrange(1,100)\n",
    "userInput=int(input('enter your number'))\n",
    "if userInput==computer_number:\n",
    "    print('computer_number',computer_number)\n",
    "    print('congratulations you number has been correct')\n",
    "elif userInput>computer_number:\n",
    "    print('computer_number',computer_number)\n",
    "    print('your number is too higher')\n",
    "elif userInput<computer_number:\n",
    "     print('computer_number',computer_number)\n",
    "     print('your number is too Lower')\n",
    "else:\n",
    "    print('computer_number',computer_number)\n",
    "    print('Sorry your number has been failed')"
   ]
  },
  {
   "cell_type": "code",
   "execution_count": 4,
   "metadata": {},
   "outputs": [
    {
     "name": "stdout",
     "output_type": "stream",
     "text": [
      "CrXCQl22ILRhoErl\n"
     ]
    }
   ],
   "source": [
    "# Task-3\n",
    "import random\n",
    "import string\n",
    "\n",
    "def generate_password(length=12):\n",
    "    char_set = string.digits + string.ascii_lowercase + string.ascii_uppercase\n",
    "    password = ''.join(random.choice(char_set) for _ in range(length))\n",
    "    return password\n",
    "\n",
    "password = generate_password(16)\n",
    "print(password)\n"
   ]
  }
 ],
 "metadata": {
  "kernelspec": {
   "display_name": "Python 3",
   "language": "python",
   "name": "python3"
  },
  "language_info": {
   "codemirror_mode": {
    "name": "ipython",
    "version": 3
   },
   "file_extension": ".py",
   "mimetype": "text/x-python",
   "name": "python",
   "nbconvert_exporter": "python",
   "pygments_lexer": "ipython3",
   "version": "3.11.0"
  }
 },
 "nbformat": 4,
 "nbformat_minor": 2
}
